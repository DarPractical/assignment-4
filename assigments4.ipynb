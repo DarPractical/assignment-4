{
 "cells": [
  {
   "cell_type": "markdown",
   "id": "e553be99-3cf3-4707-87f8-aea6df2ad66a",
   "metadata": {},
   "source": [
    "# Q1. Create a python program to sort the given list of tuples based on integer value using alambda function.\n",
    "# [('Sachin Tendulkar', 34357), ('Ricky Ponting', 27483), ('Jack Kallis', 25534), ('Virat Kohli', 24936)]"
   ]
  },
  {
   "cell_type": "code",
   "execution_count": 55,
   "id": "5219adbf-6bed-4732-bd3c-06925b8082c3",
   "metadata": {},
   "outputs": [
    {
     "name": "stdout",
     "output_type": "stream",
     "text": [
      "[('Sachin Tendulkar', 34357), ('Ricky Ponting', 27483), ('Jack Kallis', 25534), ('Virat Kohli', 24936)]\n"
     ]
    }
   ],
   "source": [
    "list1=[('Sachin Tendulkar', 34357), ('Ricky Ponting', 27483), ('Jack Kallis', 25534), ('Virat Kohli', 24936)]\n",
    "sot=filter(lambda x: sorted(list1),list1)\n",
    "print(list(sot))\n",
    "   "
   ]
  },
  {
   "cell_type": "markdown",
   "id": "468dbc3c-e70f-4a67-90d1-79a8e643f759",
   "metadata": {},
   "source": [
    "# Q2. Write a Python Program to find the squares of all the numbers in the given list of integers using\n",
    "# lambda and map functions.\n",
    "# [1, 2, 3, 4, 5, 6, 7, 8, 9, 10]"
   ]
  },
  {
   "cell_type": "code",
   "execution_count": 54,
   "id": "2c1fd91b-2f49-4317-9fc4-686c6691e2d0",
   "metadata": {},
   "outputs": [
    {
     "name": "stdout",
     "output_type": "stream",
     "text": [
      "[1, 4, 9, 16, 25, 36, 49, 64, 81, 100]\n"
     ]
    }
   ],
   "source": [
    "list2=[1, 2, 3, 4, 5, 6, 7, 8, 9, 10]\n",
    "list3=map(lambda x: x**2,list2)\n",
    "print(list(list3))\n"
   ]
  },
  {
   "cell_type": "markdown",
   "id": "2e9dbcf7-c5cc-466c-b967-f77611f29446",
   "metadata": {},
   "source": [
    "# Q3. Write a python program to convert the given list of integers into a tuple of strings. Use map and\n",
    "# lambda functions\n",
    "# Given String: [1, 2, 3, 4, 5, 6, 7, 8, 9, 10]\n",
    "# Expected output: ('1', '2', '3', '4', '5', '6', '7', '8', '9', '10')"
   ]
  },
  {
   "cell_type": "code",
   "execution_count": 53,
   "id": "e3d3e516-0dbc-45e8-b81a-29e4a3cab83e",
   "metadata": {},
   "outputs": [
    {
     "name": "stdout",
     "output_type": "stream",
     "text": [
      "('1', '2', '3', '4', '5', '6', '7', '8', '9', '10')\n"
     ]
    }
   ],
   "source": [
    "list4=[1, 2, 3, 4, 5, 6, 7, 8, 9, 10]\n",
    "tup1=(map(lambda x: str(x),list4))\n",
    "\n",
    "print(tuple(tup1))\n",
    "        "
   ]
  },
  {
   "cell_type": "markdown",
   "id": "0897bc5a-5a04-453b-8666-8e01e4e569be",
   "metadata": {},
   "source": [
    "# Q4. Write a python program using reduce function to compute the product of a list containing numbers from 1 to 25."
   ]
  },
  {
   "cell_type": "code",
   "execution_count": 81,
   "id": "8c74147e-9a90-4352-b8c8-eaa11d3ac278",
   "metadata": {},
   "outputs": [
    {
     "name": "stdout",
     "output_type": "stream",
     "text": [
      "15511210043330985984000000\n"
     ]
    }
   ],
   "source": [
    "from functools import reduce\n",
    "list5=[]\n",
    "for i in range(1,26):\n",
    "    list5.append(i)\n",
    "\n",
    "prd=reduce(lambda x,y: x*y ,list5)\n",
    "print(prd)"
   ]
  },
  {
   "cell_type": "markdown",
   "id": "101351e6-1545-4de4-98ab-3b6de4033aac",
   "metadata": {},
   "source": [
    "# Q5. Write a python program to filter the numbers in a given list that are divisible by 2 and 3 using the filter function. [2, 3, 6, 9, 27, 60, 90, 120, 55, 46]"
   ]
  },
  {
   "cell_type": "code",
   "execution_count": 8,
   "id": "129885ca-f7fd-40e6-80c8-8b352dbba4a8",
   "metadata": {},
   "outputs": [
    {
     "name": "stdout",
     "output_type": "stream",
     "text": [
      "[2, 3, 6, 9, 27, 60, 90, 120, 46]\n"
     ]
    }
   ],
   "source": [
    "list6=[2, 3, 6, 9, 27, 60, 90, 120, 55, 46]\n",
    "\n",
    "list7=filter(lambda x: x % 2 == 0 or x % 3 == 0, list6)\n",
    "print(list(list7))\n",
    "\n"
   ]
  },
  {
   "cell_type": "markdown",
   "id": "1c7a074b-75c8-4cbf-82a5-4a0adb6c658a",
   "metadata": {},
   "source": [
    "# Q6. Write a python program to find palindromes in the given list of strings using lambda and filter function ['python', 'php', 'aba', 'radar', 'level']"
   ]
  },
  {
   "cell_type": "code",
   "execution_count": 10,
   "id": "b7acd9ef-765c-4ba1-860a-3e5eb6b981d4",
   "metadata": {},
   "outputs": [],
   "source": [
    "list8=['python', 'php', 'aba', 'radar', 'level']\n",
    "\n",
    "list9=filter(lambda x: x==reversed(x) ,list8)\n",
    "prinnt(list(list\n"
   ]
  },
  {
   "cell_type": "code",
   "execution_count": null,
   "id": "5f9e745a-add0-4fca-92d0-327defc8d59c",
   "metadata": {},
   "outputs": [],
   "source": []
  }
 ],
 "metadata": {
  "kernelspec": {
   "display_name": "Python 3 (ipykernel)",
   "language": "python",
   "name": "python3"
  },
  "language_info": {
   "codemirror_mode": {
    "name": "ipython",
    "version": 3
   },
   "file_extension": ".py",
   "mimetype": "text/x-python",
   "name": "python",
   "nbconvert_exporter": "python",
   "pygments_lexer": "ipython3",
   "version": "3.10.8"
  }
 },
 "nbformat": 4,
 "nbformat_minor": 5
}
